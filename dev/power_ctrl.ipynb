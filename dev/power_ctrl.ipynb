{
 "cells": [
  {
   "cell_type": "code",
   "execution_count": 9,
   "metadata": {},
   "outputs": [],
   "source": [
    "import inst_utils\n",
    "reload(inst_utils)\n",
    "from labjack import ljm\n",
    "import time\n",
    "import os\n",
    "import numpy as np\n",
    "import matplotlib.pyplot as plt\n",
    "\n",
    "%matplotlib notebook"
   ]
  },
  {
   "cell_type": "code",
   "execution_count": 10,
   "metadata": {},
   "outputs": [],
   "source": [
    "version = '180514_1_Warm_up'\n",
    "folder_path = 'data/%s'%(version)\n",
    "file_path = folder_path + '/power_log.txt'\n",
    "if not os.path.exists(folder_path):\n",
    "    os.makedirs(folder_path)\n",
    "with open(file_path, 'w') as f_t:\n",
    "    f_t.write('ctime\\t Voltage1\\t Current1\\t Power_40K\\t Voltage2\\t Current2\\t Power_4K\\n')\n",
    "    f_t.write('seconds\\t Volts\\t Amps\\t Watts\\t Volts\\t Amps\\t Watts\\n')"
   ]
  },
  {
   "cell_type": "code",
   "execution_count": 24,
   "metadata": {},
   "outputs": [
    {
     "data": {
      "text/plain": [
       "\"\\npwr_arr = np.array([[0., 0.], [0., 0.5], [0., 1.0], [0., 1.5], \\n                     [0., 0.], [0., 0.], \\n                     [4., 0.], [4., 0.5], [4., 1.0], [4., 1.5], \\n                     [0., 0.], [0., 0.],\\n                     [8., 0.], [8., 0.5], [8., 1.0], [8., 1.5],\\n                   ])\\nplt.figure()\\nplt.plot(pwr_arr[:, 0], pwr_arr[:, 1], 'o-')\\nplt.xlabel('40K Stage Heating (W)')\\nplt.ylabel('4K Stage Heating (W)')\\n\""
      ]
     },
     "execution_count": 24,
     "metadata": {},
     "output_type": "execute_result"
    }
   ],
   "source": [
    "#array of [40K_power, 4K_power]\n",
    "pwr_arr = np.array([[0., 8.],])\n",
    "'''\n",
    "pwr_arr = np.array([[0., 0.], [0., 0.5], [0., 1.0], [0., 1.5], \n",
    "                     [0., 0.], [0., 0.], \n",
    "                     [4., 0.], [4., 0.5], [4., 1.0], [4., 1.5], \n",
    "                     [0., 0.], [0., 0.],\n",
    "                     [8., 0.], [8., 0.5], [8., 1.0], [8., 1.5],\n",
    "                   ])\n",
    "plt.figure()\n",
    "plt.plot(pwr_arr[:, 0], pwr_arr[:, 1], 'o-')\n",
    "plt.xlabel('40K Stage Heating (W)')\n",
    "plt.ylabel('4K Stage Heating (W)')\n",
    "'''"
   ]
  },
  {
   "cell_type": "code",
   "execution_count": 22,
   "metadata": {},
   "outputs": [],
   "source": [
    "ps_4K = inst_utils.Agilent_E3647a_PS()\n",
    "lj = ljm.openS(\"T7\", \"usb\", \"CryoTester_ljT7\")\n",
    "multi_volt = inst_utils.HP_3478A_multimeter(gpib_address=3)\n",
    "multi_curr = inst_utils.HP_3478A_multimeter(gpib_address=26)"
   ]
  },
  {
   "cell_type": "code",
   "execution_count": 25,
   "metadata": {},
   "outputs": [
    {
     "name": "stdout",
     "output_type": "stream",
     "text": [
      "voltage, current (40K): 0.08715 0.0401856 0.00350217504 ; voltage, current (4K): 10.01809 0.8244007 8.25892040866\n"
     ]
    },
    {
     "ename": "KeyboardInterrupt",
     "evalue": "",
     "output_type": "error",
     "traceback": [
      "\u001b[1;31m---------------------------------------------------------------------------\u001b[0m",
      "\u001b[1;31mKeyboardInterrupt\u001b[0m                         Traceback (most recent call last)",
      "\u001b[1;32m<ipython-input-25-e3bc6e4aa2f4>\u001b[0m in \u001b[0;36m<module>\u001b[1;34m()\u001b[0m\n\u001b[0;32m     31\u001b[0m         \u001b[0mpower1_t\u001b[0m \u001b[1;33m=\u001b[0m \u001b[0mvolt1_t\u001b[0m \u001b[1;33m*\u001b[0m \u001b[0mcurr1_t\u001b[0m\u001b[1;33m\u001b[0m\u001b[0m\n\u001b[0;32m     32\u001b[0m         \u001b[0mvolt2_t\u001b[0m \u001b[1;33m=\u001b[0m \u001b[0mps_4K\u001b[0m\u001b[1;33m.\u001b[0m\u001b[0mmeas_voltage\u001b[0m\u001b[1;33m(\u001b[0m\u001b[0mch\u001b[0m\u001b[1;33m=\u001b[0m\u001b[1;36m1\u001b[0m\u001b[1;33m)\u001b[0m\u001b[1;33m\u001b[0m\u001b[0m\n\u001b[1;32m---> 33\u001b[1;33m         \u001b[0mcurr2_t\u001b[0m \u001b[1;33m=\u001b[0m \u001b[0mps_4K\u001b[0m\u001b[1;33m.\u001b[0m\u001b[0mmeas_current\u001b[0m\u001b[1;33m(\u001b[0m\u001b[0mch\u001b[0m\u001b[1;33m=\u001b[0m\u001b[1;36m1\u001b[0m\u001b[1;33m)\u001b[0m\u001b[1;33m\u001b[0m\u001b[0m\n\u001b[0m\u001b[0;32m     34\u001b[0m         \u001b[0mpower2_t\u001b[0m \u001b[1;33m=\u001b[0m \u001b[0mvolt2_t\u001b[0m \u001b[1;33m*\u001b[0m \u001b[0mcurr2_t\u001b[0m\u001b[1;33m\u001b[0m\u001b[0m\n\u001b[0;32m     35\u001b[0m         line_t = '%.3f\\t %f\\t %f %f\\t %f\\t %f %f\\n'%(time_t, volt1_t, curr1_t, power1_t,\n",
      "\u001b[1;32mC:\\Users\\PT_tester\\Documents\\Test_Cryostat\\Combine\\inst_utils.pyc\u001b[0m in \u001b[0;36mmeas_current\u001b[1;34m(self, ch)\u001b[0m\n\u001b[0;32m     67\u001b[0m         '''\n\u001b[0;32m     68\u001b[0m         \u001b[0mself\u001b[0m\u001b[1;33m.\u001b[0m\u001b[0mdevice\u001b[0m\u001b[1;33m.\u001b[0m\u001b[0mwrite\u001b[0m\u001b[1;33m(\u001b[0m\u001b[1;34m'INST OUT%d'\u001b[0m\u001b[1;33m%\u001b[0m\u001b[0mch\u001b[0m\u001b[1;33m)\u001b[0m\u001b[1;33m\u001b[0m\u001b[0m\n\u001b[1;32m---> 69\u001b[1;33m         \u001b[1;32mreturn\u001b[0m \u001b[0mfloat\u001b[0m\u001b[1;33m(\u001b[0m\u001b[0mself\u001b[0m\u001b[1;33m.\u001b[0m\u001b[0mdevice\u001b[0m\u001b[1;33m.\u001b[0m\u001b[0mquery\u001b[0m\u001b[1;33m(\u001b[0m\u001b[1;34m'MEAS:CURR?'\u001b[0m\u001b[1;33m)\u001b[0m\u001b[1;33m)\u001b[0m\u001b[1;33m\u001b[0m\u001b[0m\n\u001b[0m\u001b[0;32m     70\u001b[0m \u001b[1;33m\u001b[0m\u001b[0m\n\u001b[0;32m     71\u001b[0m     \u001b[1;32mdef\u001b[0m \u001b[0mclose\u001b[0m\u001b[1;33m(\u001b[0m\u001b[0mself\u001b[0m\u001b[1;33m)\u001b[0m\u001b[1;33m:\u001b[0m\u001b[1;33m\u001b[0m\u001b[0m\n",
      "\u001b[1;32mC:\\ProgramData\\Anaconda2\\lib\\site-packages\\pyvisa\\resources\\messagebased.pyc\u001b[0m in \u001b[0;36mquery\u001b[1;34m(self, message, delay)\u001b[0m\n\u001b[0;32m    562\u001b[0m         \u001b[1;32mif\u001b[0m \u001b[0mdelay\u001b[0m \u001b[1;33m>\u001b[0m \u001b[1;36m0.0\u001b[0m\u001b[1;33m:\u001b[0m\u001b[1;33m\u001b[0m\u001b[0m\n\u001b[0;32m    563\u001b[0m             \u001b[0mtime\u001b[0m\u001b[1;33m.\u001b[0m\u001b[0msleep\u001b[0m\u001b[1;33m(\u001b[0m\u001b[0mdelay\u001b[0m\u001b[1;33m)\u001b[0m\u001b[1;33m\u001b[0m\u001b[0m\n\u001b[1;32m--> 564\u001b[1;33m         \u001b[1;32mreturn\u001b[0m \u001b[0mself\u001b[0m\u001b[1;33m.\u001b[0m\u001b[0mread\u001b[0m\u001b[1;33m(\u001b[0m\u001b[1;33m)\u001b[0m\u001b[1;33m\u001b[0m\u001b[0m\n\u001b[0m\u001b[0;32m    565\u001b[0m \u001b[1;33m\u001b[0m\u001b[0m\n\u001b[0;32m    566\u001b[0m     \u001b[1;32mdef\u001b[0m \u001b[0mask\u001b[0m\u001b[1;33m(\u001b[0m\u001b[0mself\u001b[0m\u001b[1;33m,\u001b[0m \u001b[0mmessage\u001b[0m\u001b[1;33m,\u001b[0m \u001b[0mdelay\u001b[0m\u001b[1;33m=\u001b[0m\u001b[0mNone\u001b[0m\u001b[1;33m)\u001b[0m\u001b[1;33m:\u001b[0m\u001b[1;33m\u001b[0m\u001b[0m\n",
      "\u001b[1;32mC:\\ProgramData\\Anaconda2\\lib\\site-packages\\pyvisa\\resources\\messagebased.pyc\u001b[0m in \u001b[0;36mread\u001b[1;34m(self, termination, encoding)\u001b[0m\n\u001b[0;32m    411\u001b[0m         \u001b[1;32mif\u001b[0m \u001b[0mtermination\u001b[0m \u001b[1;32mis\u001b[0m \u001b[0mNone\u001b[0m\u001b[1;33m:\u001b[0m\u001b[1;33m\u001b[0m\u001b[0m\n\u001b[0;32m    412\u001b[0m             \u001b[0mtermination\u001b[0m \u001b[1;33m=\u001b[0m \u001b[0mself\u001b[0m\u001b[1;33m.\u001b[0m\u001b[0m_read_termination\u001b[0m\u001b[1;33m\u001b[0m\u001b[0m\n\u001b[1;32m--> 413\u001b[1;33m             \u001b[0mmessage\u001b[0m \u001b[1;33m=\u001b[0m \u001b[0mself\u001b[0m\u001b[1;33m.\u001b[0m\u001b[0m_read_raw\u001b[0m\u001b[1;33m(\u001b[0m\u001b[1;33m)\u001b[0m\u001b[1;33m.\u001b[0m\u001b[0mdecode\u001b[0m\u001b[1;33m(\u001b[0m\u001b[0menco\u001b[0m\u001b[1;33m)\u001b[0m\u001b[1;33m\u001b[0m\u001b[0m\n\u001b[0m\u001b[0;32m    414\u001b[0m         \u001b[1;32melse\u001b[0m\u001b[1;33m:\u001b[0m\u001b[1;33m\u001b[0m\u001b[0m\n\u001b[0;32m    415\u001b[0m             \u001b[1;32mwith\u001b[0m \u001b[0mself\u001b[0m\u001b[1;33m.\u001b[0m\u001b[0mread_termination_context\u001b[0m\u001b[1;33m(\u001b[0m\u001b[0mtermination\u001b[0m\u001b[1;33m)\u001b[0m\u001b[1;33m:\u001b[0m\u001b[1;33m\u001b[0m\u001b[0m\n",
      "\u001b[1;32mC:\\ProgramData\\Anaconda2\\lib\\site-packages\\pyvisa\\resources\\messagebased.pyc\u001b[0m in \u001b[0;36m_read_raw\u001b[1;34m(self, size)\u001b[0m\n\u001b[0;32m    384\u001b[0m                     logger.debug('%s - reading %d bytes (last status %r)',\n\u001b[0;32m    385\u001b[0m                                  self._resource_name, size, status)\n\u001b[1;32m--> 386\u001b[1;33m                     \u001b[0mchunk\u001b[0m\u001b[1;33m,\u001b[0m \u001b[0mstatus\u001b[0m \u001b[1;33m=\u001b[0m \u001b[0mself\u001b[0m\u001b[1;33m.\u001b[0m\u001b[0mvisalib\u001b[0m\u001b[1;33m.\u001b[0m\u001b[0mread\u001b[0m\u001b[1;33m(\u001b[0m\u001b[0mself\u001b[0m\u001b[1;33m.\u001b[0m\u001b[0msession\u001b[0m\u001b[1;33m,\u001b[0m \u001b[0msize\u001b[0m\u001b[1;33m)\u001b[0m\u001b[1;33m\u001b[0m\u001b[0m\n\u001b[0m\u001b[0;32m    387\u001b[0m                     \u001b[0mret\u001b[0m\u001b[1;33m.\u001b[0m\u001b[0mextend\u001b[0m\u001b[1;33m(\u001b[0m\u001b[0mchunk\u001b[0m\u001b[1;33m)\u001b[0m\u001b[1;33m\u001b[0m\u001b[0m\n\u001b[0;32m    388\u001b[0m             \u001b[1;32mexcept\u001b[0m \u001b[0merrors\u001b[0m\u001b[1;33m.\u001b[0m\u001b[0mVisaIOError\u001b[0m \u001b[1;32mas\u001b[0m \u001b[0me\u001b[0m\u001b[1;33m:\u001b[0m\u001b[1;33m\u001b[0m\u001b[0m\n",
      "\u001b[1;32mC:\\ProgramData\\Anaconda2\\lib\\site-packages\\pyvisa\\ctwrapper\\functions.pyc\u001b[0m in \u001b[0;36mread\u001b[1;34m(library, session, count)\u001b[0m\n\u001b[0;32m   1582\u001b[0m     \u001b[0mbuffer\u001b[0m \u001b[1;33m=\u001b[0m \u001b[0mcreate_string_buffer\u001b[0m\u001b[1;33m(\u001b[0m\u001b[0mcount\u001b[0m\u001b[1;33m)\u001b[0m\u001b[1;33m\u001b[0m\u001b[0m\n\u001b[0;32m   1583\u001b[0m     \u001b[0mreturn_count\u001b[0m \u001b[1;33m=\u001b[0m \u001b[0mViUInt32\u001b[0m\u001b[1;33m(\u001b[0m\u001b[1;33m)\u001b[0m\u001b[1;33m\u001b[0m\u001b[0m\n\u001b[1;32m-> 1584\u001b[1;33m     \u001b[0mret\u001b[0m \u001b[1;33m=\u001b[0m \u001b[0mlibrary\u001b[0m\u001b[1;33m.\u001b[0m\u001b[0mviRead\u001b[0m\u001b[1;33m(\u001b[0m\u001b[0msession\u001b[0m\u001b[1;33m,\u001b[0m \u001b[0mbuffer\u001b[0m\u001b[1;33m,\u001b[0m \u001b[0mcount\u001b[0m\u001b[1;33m,\u001b[0m \u001b[0mbyref\u001b[0m\u001b[1;33m(\u001b[0m\u001b[0mreturn_count\u001b[0m\u001b[1;33m)\u001b[0m\u001b[1;33m)\u001b[0m\u001b[1;33m\u001b[0m\u001b[0m\n\u001b[0m\u001b[0;32m   1585\u001b[0m     \u001b[1;32mreturn\u001b[0m \u001b[0mbuffer\u001b[0m\u001b[1;33m.\u001b[0m\u001b[0mraw\u001b[0m\u001b[1;33m[\u001b[0m\u001b[1;33m:\u001b[0m\u001b[0mreturn_count\u001b[0m\u001b[1;33m.\u001b[0m\u001b[0mvalue\u001b[0m\u001b[1;33m]\u001b[0m\u001b[1;33m,\u001b[0m \u001b[0mret\u001b[0m\u001b[1;33m\u001b[0m\u001b[0m\n\u001b[0;32m   1586\u001b[0m \u001b[1;33m\u001b[0m\u001b[0m\n",
      "\u001b[1;32mC:\\ProgramData\\Anaconda2\\lib\\site-packages\\pyvisa\\ctwrapper\\highlevel.pyc\u001b[0m in \u001b[0;36m_return_handler\u001b[1;34m(self, ret_value, func, arguments)\u001b[0m\n\u001b[0;32m    147\u001b[0m             \u001b[0msetattr\u001b[0m\u001b[1;33m(\u001b[0m\u001b[0mself\u001b[0m\u001b[1;33m,\u001b[0m \u001b[0mmethod_name\u001b[0m\u001b[1;33m,\u001b[0m \u001b[0mgetattr\u001b[0m\u001b[1;33m(\u001b[0m\u001b[0mself\u001b[0m\u001b[1;33m.\u001b[0m\u001b[0mlib\u001b[0m\u001b[1;33m,\u001b[0m \u001b[0mmethod_name\u001b[0m\u001b[1;33m)\u001b[0m\u001b[1;33m)\u001b[0m\u001b[1;33m\u001b[0m\u001b[0m\n\u001b[0;32m    148\u001b[0m \u001b[1;33m\u001b[0m\u001b[0m\n\u001b[1;32m--> 149\u001b[1;33m     \u001b[1;32mdef\u001b[0m \u001b[0m_return_handler\u001b[0m\u001b[1;33m(\u001b[0m\u001b[0mself\u001b[0m\u001b[1;33m,\u001b[0m \u001b[0mret_value\u001b[0m\u001b[1;33m,\u001b[0m \u001b[0mfunc\u001b[0m\u001b[1;33m,\u001b[0m \u001b[0marguments\u001b[0m\u001b[1;33m)\u001b[0m\u001b[1;33m:\u001b[0m\u001b[1;33m\u001b[0m\u001b[0m\n\u001b[0m\u001b[0;32m    150\u001b[0m         \"\"\"Check return values for errors and warnings.\n\u001b[0;32m    151\u001b[0m         \"\"\"\n",
      "\u001b[1;31mKeyboardInterrupt\u001b[0m: "
     ]
    }
   ],
   "source": [
    "duration = 3600 #s\n",
    "#pwr = 0 #W\n",
    "res1 = 12. #Ohms\n",
    "res2 = 12. #Ohms\n",
    "pause = 5 #seconds\n",
    "\n",
    "v_factor = 50./5.0 #0-5V analog represents 0-50V\n",
    "i_factor = 24./5.0 #0-5V analog represents 0-24A\n",
    "\n",
    "ps_switch = 'FIO0'\n",
    "v_ctrl = 'DAC0'\n",
    "\n",
    "for pwrs in pwr_arr:\n",
    "    \n",
    "    voltage = np.sqrt(res1 * pwrs[0])\n",
    "    ljm.eWriteName(lj, ps_switch, 0) #turn on the power supply\n",
    "    ljm.eWriteName(lj, v_ctrl, voltage/v_factor)\n",
    "    \n",
    "    ps_4K.set_current(np.sqrt(pwrs[1]/res2), ch=1)\n",
    "    to = time.time()\n",
    "    time.sleep(pause)\n",
    "    volt1_t = multi_volt.meas_voltage()*v_factor\n",
    "    curr1_t = multi_curr.meas_voltage()*i_factor\n",
    "    volt2_t = ps_4K.meas_voltage(ch=1)\n",
    "    curr2_t = ps_4K.meas_current(ch=1)\n",
    "    print 'voltage, current (40K):',volt1_t, curr1_t, volt1_t * curr1_t,\\\n",
    "          '; voltage, current (4K):', volt2_t, curr2_t, volt2_t * curr2_t\n",
    "    while (time.time() - to) < duration:\n",
    "        time_t = time.time()\n",
    "        volt1_t = multi_volt.meas_voltage()*v_factor\n",
    "        curr1_t = multi_curr.meas_voltage()*i_factor\n",
    "        power1_t = volt1_t * curr1_t\n",
    "        volt2_t = ps_4K.meas_voltage(ch=1)\n",
    "        curr2_t = ps_4K.meas_current(ch=1)\n",
    "        power2_t = volt2_t * curr2_t\n",
    "        line_t = '%.3f\\t %f\\t %f %f\\t %f\\t %f %f\\n'%(time_t, volt1_t, curr1_t, power1_t,\n",
    "                                                    volt2_t, curr2_t, power2_t)\n",
    "        with open(file_path, 'a') as f_t:\n",
    "            f_t.write(line_t)\n",
    "print 'Heating script is finished. Power is to be turned to zero.'\n",
    "\n",
    "# Turn the power to zero\n",
    "pwr = 0. #W\n",
    "voltage = np.sqrt(res1 * pwr)\n",
    "ljm.eWriteName(lj, v_ctrl, voltage/v_factor)\n",
    "\n",
    "ps_4K.set_current(np.sqrt(pwr/res2), ch=1)\n",
    "to = time.time()\n",
    "time.sleep(pause)\n",
    "volt1_t = multi_volt.meas_voltage()*v_factor\n",
    "curr1_t = multi_curr.meas_voltage()*i_factor\n",
    "volt2_t = ps_4K.meas_voltage(ch=1)\n",
    "curr2_t = ps_4K.meas_current(ch=1)\n",
    "print 'voltage, current (40K):',volt1_t, curr1_t, volt1_t * curr1_t,\\\n",
    "      '; voltage, current (4K):', volt2_t, curr2_t, volt2_t * curr2_t\n",
    "while True:\n",
    "    time_t = time.time()\n",
    "    volt1_t = multi_volt.meas_voltage()*v_factor\n",
    "    curr1_t = multi_curr.meas_voltage()*i_factor\n",
    "    power1_t = volt1_t * curr1_t\n",
    "    volt2_t = ps_4K.meas_voltage(ch=1)\n",
    "    curr2_t = ps_4K.meas_current(ch=1)\n",
    "    power2_t = volt2_t * curr2_t\n",
    "    line_t = '%.3f\\t %f\\t %f %f\\t %f\\t %f %f\\n'%(time_t, volt1_t, curr1_t, power1_t,\n",
    "                                                volt2_t, curr2_t, power2_t)\n",
    "    with open(file_path, 'a') as f_t:\n",
    "        f_t.write(line_t)"
   ]
  },
  {
   "cell_type": "code",
   "execution_count": 26,
   "metadata": {},
   "outputs": [],
   "source": [
    "ljm.eWriteName(lj, ps_switch, 1)\n",
    "ljm.close(lj)\n",
    "multi_volt.close()\n",
    "multi_curr.close()\n",
    "ps_4K.close()"
   ]
  },
  {
   "cell_type": "code",
   "execution_count": null,
   "metadata": {},
   "outputs": [],
   "source": []
  },
  {
   "cell_type": "code",
   "execution_count": null,
   "metadata": {},
   "outputs": [],
   "source": []
  },
  {
   "cell_type": "code",
   "execution_count": null,
   "metadata": {},
   "outputs": [],
   "source": []
  },
  {
   "cell_type": "markdown",
   "metadata": {},
   "source": [
    "# Two outputs from Agilent Power Supply"
   ]
  },
  {
   "cell_type": "code",
   "execution_count": 24,
   "metadata": {},
   "outputs": [
    {
     "name": "stdout",
     "output_type": "stream",
     "text": [
      "9.85433 0.8244125 9.810174 0.8239621\n"
     ]
    },
    {
     "ename": "KeyboardInterrupt",
     "evalue": "",
     "output_type": "error",
     "traceback": [
      "\u001b[1;31m---------------------------------------------------------------------------\u001b[0m",
      "\u001b[1;31mKeyboardInterrupt\u001b[0m                         Traceback (most recent call last)",
      "\u001b[1;32m<ipython-input-24-516c90d3b565>\u001b[0m in \u001b[0;36m<module>\u001b[1;34m()\u001b[0m\n\u001b[0;32m     24\u001b[0m         \u001b[0mpower1_t\u001b[0m \u001b[1;33m=\u001b[0m \u001b[0mvolt1_t\u001b[0m \u001b[1;33m*\u001b[0m \u001b[0mcurr1_t\u001b[0m\u001b[1;33m\u001b[0m\u001b[0m\n\u001b[0;32m     25\u001b[0m         \u001b[0mvolt2_t\u001b[0m \u001b[1;33m=\u001b[0m \u001b[0mps\u001b[0m\u001b[1;33m.\u001b[0m\u001b[0mmeas_voltage\u001b[0m\u001b[1;33m(\u001b[0m\u001b[0mch\u001b[0m\u001b[1;33m=\u001b[0m\u001b[1;36m2\u001b[0m\u001b[1;33m)\u001b[0m\u001b[1;33m\u001b[0m\u001b[0m\n\u001b[1;32m---> 26\u001b[1;33m         \u001b[0mcurr2_t\u001b[0m \u001b[1;33m=\u001b[0m \u001b[0mps\u001b[0m\u001b[1;33m.\u001b[0m\u001b[0mmeas_current\u001b[0m\u001b[1;33m(\u001b[0m\u001b[0mch\u001b[0m\u001b[1;33m=\u001b[0m\u001b[1;36m2\u001b[0m\u001b[1;33m)\u001b[0m\u001b[1;33m\u001b[0m\u001b[0m\n\u001b[0m\u001b[0;32m     27\u001b[0m         \u001b[0mpower2_t\u001b[0m \u001b[1;33m=\u001b[0m \u001b[0mvolt2_t\u001b[0m \u001b[1;33m*\u001b[0m \u001b[0mcurr2_t\u001b[0m\u001b[1;33m\u001b[0m\u001b[0m\n\u001b[0;32m     28\u001b[0m         line_t = '%.3f\\t %f\\t %f %f\\t %f\\t %f %f\\n'%(time_t, volt1_t, curr1_t, power1_t,\n",
      "\u001b[1;32mC:\\Users\\PT_tester\\Documents\\Test_Cryostat\\Combine\\inst_utils.pyc\u001b[0m in \u001b[0;36mmeas_current\u001b[1;34m(self, ch)\u001b[0m\n\u001b[0;32m     67\u001b[0m         '''\n\u001b[0;32m     68\u001b[0m         \u001b[0mself\u001b[0m\u001b[1;33m.\u001b[0m\u001b[0mdevice\u001b[0m\u001b[1;33m.\u001b[0m\u001b[0mwrite\u001b[0m\u001b[1;33m(\u001b[0m\u001b[1;34m'INST OUT%d'\u001b[0m\u001b[1;33m%\u001b[0m\u001b[0mch\u001b[0m\u001b[1;33m)\u001b[0m\u001b[1;33m\u001b[0m\u001b[0m\n\u001b[1;32m---> 69\u001b[1;33m         \u001b[1;32mreturn\u001b[0m \u001b[0mfloat\u001b[0m\u001b[1;33m(\u001b[0m\u001b[0mself\u001b[0m\u001b[1;33m.\u001b[0m\u001b[0mdevice\u001b[0m\u001b[1;33m.\u001b[0m\u001b[0mquery\u001b[0m\u001b[1;33m(\u001b[0m\u001b[1;34m'MEAS:CURR?'\u001b[0m\u001b[1;33m)\u001b[0m\u001b[1;33m)\u001b[0m\u001b[1;33m\u001b[0m\u001b[0m\n\u001b[0m\u001b[0;32m     70\u001b[0m \u001b[1;33m\u001b[0m\u001b[0m\n\u001b[0;32m     71\u001b[0m     \u001b[1;32mdef\u001b[0m \u001b[0mclose\u001b[0m\u001b[1;33m(\u001b[0m\u001b[0mself\u001b[0m\u001b[1;33m)\u001b[0m\u001b[1;33m:\u001b[0m\u001b[1;33m\u001b[0m\u001b[0m\n",
      "\u001b[1;32mC:\\ProgramData\\Anaconda2\\lib\\site-packages\\pyvisa\\resources\\messagebased.pyc\u001b[0m in \u001b[0;36mquery\u001b[1;34m(self, message, delay)\u001b[0m\n\u001b[0;32m    562\u001b[0m         \u001b[1;32mif\u001b[0m \u001b[0mdelay\u001b[0m \u001b[1;33m>\u001b[0m \u001b[1;36m0.0\u001b[0m\u001b[1;33m:\u001b[0m\u001b[1;33m\u001b[0m\u001b[0m\n\u001b[0;32m    563\u001b[0m             \u001b[0mtime\u001b[0m\u001b[1;33m.\u001b[0m\u001b[0msleep\u001b[0m\u001b[1;33m(\u001b[0m\u001b[0mdelay\u001b[0m\u001b[1;33m)\u001b[0m\u001b[1;33m\u001b[0m\u001b[0m\n\u001b[1;32m--> 564\u001b[1;33m         \u001b[1;32mreturn\u001b[0m \u001b[0mself\u001b[0m\u001b[1;33m.\u001b[0m\u001b[0mread\u001b[0m\u001b[1;33m(\u001b[0m\u001b[1;33m)\u001b[0m\u001b[1;33m\u001b[0m\u001b[0m\n\u001b[0m\u001b[0;32m    565\u001b[0m \u001b[1;33m\u001b[0m\u001b[0m\n\u001b[0;32m    566\u001b[0m     \u001b[1;32mdef\u001b[0m \u001b[0mask\u001b[0m\u001b[1;33m(\u001b[0m\u001b[0mself\u001b[0m\u001b[1;33m,\u001b[0m \u001b[0mmessage\u001b[0m\u001b[1;33m,\u001b[0m \u001b[0mdelay\u001b[0m\u001b[1;33m=\u001b[0m\u001b[0mNone\u001b[0m\u001b[1;33m)\u001b[0m\u001b[1;33m:\u001b[0m\u001b[1;33m\u001b[0m\u001b[0m\n",
      "\u001b[1;32mC:\\ProgramData\\Anaconda2\\lib\\site-packages\\pyvisa\\resources\\messagebased.pyc\u001b[0m in \u001b[0;36mread\u001b[1;34m(self, termination, encoding)\u001b[0m\n\u001b[0;32m    411\u001b[0m         \u001b[1;32mif\u001b[0m \u001b[0mtermination\u001b[0m \u001b[1;32mis\u001b[0m \u001b[0mNone\u001b[0m\u001b[1;33m:\u001b[0m\u001b[1;33m\u001b[0m\u001b[0m\n\u001b[0;32m    412\u001b[0m             \u001b[0mtermination\u001b[0m \u001b[1;33m=\u001b[0m \u001b[0mself\u001b[0m\u001b[1;33m.\u001b[0m\u001b[0m_read_termination\u001b[0m\u001b[1;33m\u001b[0m\u001b[0m\n\u001b[1;32m--> 413\u001b[1;33m             \u001b[0mmessage\u001b[0m \u001b[1;33m=\u001b[0m \u001b[0mself\u001b[0m\u001b[1;33m.\u001b[0m\u001b[0m_read_raw\u001b[0m\u001b[1;33m(\u001b[0m\u001b[1;33m)\u001b[0m\u001b[1;33m.\u001b[0m\u001b[0mdecode\u001b[0m\u001b[1;33m(\u001b[0m\u001b[0menco\u001b[0m\u001b[1;33m)\u001b[0m\u001b[1;33m\u001b[0m\u001b[0m\n\u001b[0m\u001b[0;32m    414\u001b[0m         \u001b[1;32melse\u001b[0m\u001b[1;33m:\u001b[0m\u001b[1;33m\u001b[0m\u001b[0m\n\u001b[0;32m    415\u001b[0m             \u001b[1;32mwith\u001b[0m \u001b[0mself\u001b[0m\u001b[1;33m.\u001b[0m\u001b[0mread_termination_context\u001b[0m\u001b[1;33m(\u001b[0m\u001b[0mtermination\u001b[0m\u001b[1;33m)\u001b[0m\u001b[1;33m:\u001b[0m\u001b[1;33m\u001b[0m\u001b[0m\n",
      "\u001b[1;32mC:\\ProgramData\\Anaconda2\\lib\\site-packages\\pyvisa\\resources\\messagebased.pyc\u001b[0m in \u001b[0;36m_read_raw\u001b[1;34m(self, size)\u001b[0m\n\u001b[0;32m    384\u001b[0m                     logger.debug('%s - reading %d bytes (last status %r)',\n\u001b[0;32m    385\u001b[0m                                  self._resource_name, size, status)\n\u001b[1;32m--> 386\u001b[1;33m                     \u001b[0mchunk\u001b[0m\u001b[1;33m,\u001b[0m \u001b[0mstatus\u001b[0m \u001b[1;33m=\u001b[0m \u001b[0mself\u001b[0m\u001b[1;33m.\u001b[0m\u001b[0mvisalib\u001b[0m\u001b[1;33m.\u001b[0m\u001b[0mread\u001b[0m\u001b[1;33m(\u001b[0m\u001b[0mself\u001b[0m\u001b[1;33m.\u001b[0m\u001b[0msession\u001b[0m\u001b[1;33m,\u001b[0m \u001b[0msize\u001b[0m\u001b[1;33m)\u001b[0m\u001b[1;33m\u001b[0m\u001b[0m\n\u001b[0m\u001b[0;32m    387\u001b[0m                     \u001b[0mret\u001b[0m\u001b[1;33m.\u001b[0m\u001b[0mextend\u001b[0m\u001b[1;33m(\u001b[0m\u001b[0mchunk\u001b[0m\u001b[1;33m)\u001b[0m\u001b[1;33m\u001b[0m\u001b[0m\n\u001b[0;32m    388\u001b[0m             \u001b[1;32mexcept\u001b[0m \u001b[0merrors\u001b[0m\u001b[1;33m.\u001b[0m\u001b[0mVisaIOError\u001b[0m \u001b[1;32mas\u001b[0m \u001b[0me\u001b[0m\u001b[1;33m:\u001b[0m\u001b[1;33m\u001b[0m\u001b[0m\n",
      "\u001b[1;32mC:\\ProgramData\\Anaconda2\\lib\\site-packages\\pyvisa\\ctwrapper\\functions.pyc\u001b[0m in \u001b[0;36mread\u001b[1;34m(library, session, count)\u001b[0m\n\u001b[0;32m   1582\u001b[0m     \u001b[0mbuffer\u001b[0m \u001b[1;33m=\u001b[0m \u001b[0mcreate_string_buffer\u001b[0m\u001b[1;33m(\u001b[0m\u001b[0mcount\u001b[0m\u001b[1;33m)\u001b[0m\u001b[1;33m\u001b[0m\u001b[0m\n\u001b[0;32m   1583\u001b[0m     \u001b[0mreturn_count\u001b[0m \u001b[1;33m=\u001b[0m \u001b[0mViUInt32\u001b[0m\u001b[1;33m(\u001b[0m\u001b[1;33m)\u001b[0m\u001b[1;33m\u001b[0m\u001b[0m\n\u001b[1;32m-> 1584\u001b[1;33m     \u001b[0mret\u001b[0m \u001b[1;33m=\u001b[0m \u001b[0mlibrary\u001b[0m\u001b[1;33m.\u001b[0m\u001b[0mviRead\u001b[0m\u001b[1;33m(\u001b[0m\u001b[0msession\u001b[0m\u001b[1;33m,\u001b[0m \u001b[0mbuffer\u001b[0m\u001b[1;33m,\u001b[0m \u001b[0mcount\u001b[0m\u001b[1;33m,\u001b[0m \u001b[0mbyref\u001b[0m\u001b[1;33m(\u001b[0m\u001b[0mreturn_count\u001b[0m\u001b[1;33m)\u001b[0m\u001b[1;33m)\u001b[0m\u001b[1;33m\u001b[0m\u001b[0m\n\u001b[0m\u001b[0;32m   1585\u001b[0m     \u001b[1;32mreturn\u001b[0m \u001b[0mbuffer\u001b[0m\u001b[1;33m.\u001b[0m\u001b[0mraw\u001b[0m\u001b[1;33m[\u001b[0m\u001b[1;33m:\u001b[0m\u001b[0mreturn_count\u001b[0m\u001b[1;33m.\u001b[0m\u001b[0mvalue\u001b[0m\u001b[1;33m]\u001b[0m\u001b[1;33m,\u001b[0m \u001b[0mret\u001b[0m\u001b[1;33m\u001b[0m\u001b[0m\n\u001b[0;32m   1586\u001b[0m \u001b[1;33m\u001b[0m\u001b[0m\n",
      "\u001b[1;32mC:\\ProgramData\\Anaconda2\\lib\\site-packages\\pyvisa\\ctwrapper\\highlevel.pyc\u001b[0m in \u001b[0;36m_return_handler\u001b[1;34m(self, ret_value, func, arguments)\u001b[0m\n\u001b[0;32m    147\u001b[0m             \u001b[0msetattr\u001b[0m\u001b[1;33m(\u001b[0m\u001b[0mself\u001b[0m\u001b[1;33m,\u001b[0m \u001b[0mmethod_name\u001b[0m\u001b[1;33m,\u001b[0m \u001b[0mgetattr\u001b[0m\u001b[1;33m(\u001b[0m\u001b[0mself\u001b[0m\u001b[1;33m.\u001b[0m\u001b[0mlib\u001b[0m\u001b[1;33m,\u001b[0m \u001b[0mmethod_name\u001b[0m\u001b[1;33m)\u001b[0m\u001b[1;33m)\u001b[0m\u001b[1;33m\u001b[0m\u001b[0m\n\u001b[0;32m    148\u001b[0m \u001b[1;33m\u001b[0m\u001b[0m\n\u001b[1;32m--> 149\u001b[1;33m     \u001b[1;32mdef\u001b[0m \u001b[0m_return_handler\u001b[0m\u001b[1;33m(\u001b[0m\u001b[0mself\u001b[0m\u001b[1;33m,\u001b[0m \u001b[0mret_value\u001b[0m\u001b[1;33m,\u001b[0m \u001b[0mfunc\u001b[0m\u001b[1;33m,\u001b[0m \u001b[0marguments\u001b[0m\u001b[1;33m)\u001b[0m\u001b[1;33m:\u001b[0m\u001b[1;33m\u001b[0m\u001b[0m\n\u001b[0m\u001b[0;32m    150\u001b[0m         \"\"\"Check return values for errors and warnings.\n\u001b[0;32m    151\u001b[0m         \"\"\"\n",
      "\u001b[1;31mKeyboardInterrupt\u001b[0m: "
     ]
    }
   ],
   "source": [
    "ps_4K = inst_utils.Agilent_E3647a_PS()\n",
    "#ps.device.write('DISP ON')\n",
    "\n",
    "duration = 3600 #s\n",
    "#pwr = 0 #W\n",
    "res1 = 12. #Ohms\n",
    "res2 = 12. #Ohms\n",
    "pause = 2 #seconds\n",
    "\n",
    "for pwrs in pwr_arr:\n",
    "    ps.set_current(np.sqrt(pwrs[0]/res1), ch=1)\n",
    "    ps.set_current(np.sqrt(pwrs[1]/res2), ch=2)\n",
    "    to = time.time()\n",
    "    time.sleep(pause)\n",
    "    volt1_t = ps.meas_voltage(ch=1)\n",
    "    curr1_t = ps.meas_current(ch=1)\n",
    "    volt2_t = ps.meas_voltage(ch=2)\n",
    "    curr2_t = ps.meas_current(ch=2)\n",
    "    print volt1_t, curr1_t, volt2_t, curr2_t\n",
    "    while (time.time() - to) < duration:\n",
    "        time_t = time.time()\n",
    "        volt1_t = ps.meas_voltage(ch=1)\n",
    "        curr1_t = ps.meas_current(ch=1)\n",
    "        power1_t = volt1_t * curr1_t\n",
    "        volt2_t = ps.meas_voltage(ch=2)\n",
    "        curr2_t = ps.meas_current(ch=2)\n",
    "        power2_t = volt2_t * curr2_t\n",
    "        line_t = '%.3f\\t %f\\t %f %f\\t %f\\t %f %f\\n'%(time_t, volt1_t, curr1_t, power1_t,\n",
    "                                                    volt2_t, curr2_t, power2_t)\n",
    "        with open(file_path, 'a') as f_t:\n",
    "            f_t.write(line_t)\n",
    "pwr = 0.\n",
    "ps.set_current(np.sqrt(pwr/res1), ch=1)\n",
    "ps.set_current(np.sqrt(pwr/res2), ch=2)\n",
    "to = time.time()\n",
    "time.sleep(pause)\n",
    "volt1_t = ps.meas_voltage(ch=1)\n",
    "curr1_t = ps.meas_current(ch=1)\n",
    "volt2_t = ps.meas_voltage(ch=2)\n",
    "curr2_t = ps.meas_current(ch=2)\n",
    "print volt1_t, curr1_t, volt2_t, curr2_t\n",
    "while True:\n",
    "    time_t = time.time()\n",
    "    volt1_t = ps.meas_voltage(ch=1)\n",
    "    curr1_t = ps.meas_current(ch=1)\n",
    "    power1_t = volt1_t * curr1_t\n",
    "    volt2_t = ps.meas_voltage(ch=2)\n",
    "    curr2_t = ps.meas_current(ch=2)\n",
    "    power2_t = volt2_t * curr2_t\n",
    "    line_t = '%.3f\\t %f\\t %f %f\\t %f\\t %f %f\\n'%(time_t, volt1_t, curr1_t, power1_t,\n",
    "                                                volt2_t, curr2_t, power2_t)\n",
    "    with open(file_path, 'a') as f_t:\n",
    "        f_t.write(line_t)"
   ]
  },
  {
   "cell_type": "code",
   "execution_count": 25,
   "metadata": {},
   "outputs": [],
   "source": [
    "ps.close()"
   ]
  },
  {
   "cell_type": "code",
   "execution_count": null,
   "metadata": {},
   "outputs": [],
   "source": []
  }
 ],
 "metadata": {
  "kernelspec": {
   "display_name": "Python 2",
   "language": "python",
   "name": "python2"
  },
  "language_info": {
   "codemirror_mode": {
    "name": "ipython",
    "version": 2
   },
   "file_extension": ".py",
   "mimetype": "text/x-python",
   "name": "python",
   "nbconvert_exporter": "python",
   "pygments_lexer": "ipython2",
   "version": "2.7.14"
  }
 },
 "nbformat": 4,
 "nbformat_minor": 2
}
