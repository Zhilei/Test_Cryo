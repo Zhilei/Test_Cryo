{
 "cells": [
  {
   "cell_type": "code",
   "execution_count": 1,
   "metadata": {},
   "outputs": [],
   "source": [
    "from labjack import ljm\n",
    "import time\n",
    "import numpy as np\n",
    "import visa\n",
    "import matplotlib.pyplot as plt\n",
    "\n",
    "import lakeshore_util\n",
    "\n",
    "%matplotlib notebook"
   ]
  },
  {
   "cell_type": "code",
   "execution_count": 2,
   "metadata": {},
   "outputs": [],
   "source": [
    "#Labjack\n",
    "ps_switch = 'FIO0'\n",
    "v_ctrl = 'DAC0'\n",
    "v_meas = 'AIN0_EF_READ_A'\n",
    "v_off = 'AIN0_EF_READ_C'\n",
    "i_meas = 'AIN1'\n",
    "rms_set = 'AIN0_EF_INDEX'\n",
    "\n",
    "labjack = ljm.openS(\"T7\", \"usb\", \"CryoTester_ljT7\")\n",
    "ljm.eWriteName(labjack, ps_switch, 1) #Shutdown the power supply by default\n",
    "ljm.eWriteName(labjack, rms_set, 10)\n",
    "#Multimeters\n",
    "rm = visa.ResourceManager()\n",
    "multi1 = rm.open_resource('GPIB0::26::INSTR')\n",
    "multi2 = rm.open_resource('GPIB0::3::INSTR')"
   ]
  },
  {
   "cell_type": "code",
   "execution_count": 4,
   "metadata": {},
   "outputs": [
    {
     "data": {
      "text/plain": [
       "(4L, <StatusCode.success: 0>)"
      ]
     },
     "execution_count": 4,
     "metadata": {},
     "output_type": "execute_result"
    }
   ],
   "source": [
    "multi1.write('D3')"
   ]
  },
  {
   "cell_type": "markdown",
   "metadata": {},
   "source": [
    "# Test"
   ]
  },
  {
   "cell_type": "code",
   "execution_count": 17,
   "metadata": {},
   "outputs": [
    {
     "data": {
      "text/plain": [
       "0.007935549132525921"
      ]
     },
     "execution_count": 17,
     "metadata": {},
     "output_type": "execute_result"
    }
   ],
   "source": [
    "labjack = ljm.openS(\"T7\", \"usb\", \"CryoTester_ljT7\")\n",
    "ljm.eWriteName(labjack, 'AIN0_EF_INDEX', 3) #average\n",
    "ljm.eReadName(labjack, 'AIN0')"
   ]
  },
  {
   "cell_type": "code",
   "execution_count": null,
   "metadata": {},
   "outputs": [],
   "source": []
  },
  {
   "cell_type": "code",
   "execution_count": null,
   "metadata": {},
   "outputs": [],
   "source": []
  },
  {
   "cell_type": "markdown",
   "metadata": {},
   "source": [
    "# tseT"
   ]
  },
  {
   "cell_type": "code",
   "execution_count": 33,
   "metadata": {},
   "outputs": [],
   "source": []
  },
  {
   "cell_type": "code",
   "execution_count": 29,
   "metadata": {},
   "outputs": [
    {
     "ename": "NameError",
     "evalue": "name 'labjack_ian' is not defined",
     "output_type": "error",
     "traceback": [
      "\u001b[1;31m---------------------------------------------------------------------------\u001b[0m",
      "\u001b[1;31mNameError\u001b[0m                                 Traceback (most recent call last)",
      "\u001b[1;32m<ipython-input-29-d03172aef0c1>\u001b[0m in \u001b[0;36m<module>\u001b[1;34m()\u001b[0m\n\u001b[1;32m----> 1\u001b[1;33m \u001b[0mljm\u001b[0m\u001b[1;33m.\u001b[0m\u001b[0mclose\u001b[0m\u001b[1;33m(\u001b[0m\u001b[0mlabjack_ian\u001b[0m\u001b[1;33m)\u001b[0m\u001b[1;33m\u001b[0m\u001b[0m\n\u001b[0m",
      "\u001b[1;31mNameError\u001b[0m: name 'labjack_ian' is not defined"
     ]
    }
   ],
   "source": [
    "ljm.close(labjack_ian)"
   ]
  },
  {
   "cell_type": "code",
   "execution_count": 12,
   "metadata": {},
   "outputs": [],
   "source": [
    "version = 25\n",
    "\n",
    "power_start = 1 #W\n",
    "resistance = 12 #ohms\n",
    "voltage_start = 5. #voltage\n",
    "duration = 500. #seconds\n",
    "v_factor = 50./5. #factor turning 0-5V signal to the output voltage\n",
    "i_factor = 24./5. #factor turning 0-5V signal to the output current\n",
    "with open('log%d.txt'%version, 'w') as f_t:\n",
    "    f_t.write('ctime\\t power\\t v_meas\\t i_meas\\t v_multi1\\t v_multi2\\t temp1\\n')\n",
    "    f_t.write('seconds\\t Watt\\t Volts\\t Amps\\t Volts\\t Volts\\t Kelvin\\n')"
   ]
  },
  {
   "cell_type": "code",
   "execution_count": 11,
   "metadata": {},
   "outputs": [
    {
     "ename": "LJMError",
     "evalue": "LJM library error code 1224 LJME_DEVICE_NOT_OPEN",
     "output_type": "error",
     "traceback": [
      "\u001b[1;31m---------------------------------------------------------------------------\u001b[0m",
      "\u001b[1;31mLJMError\u001b[0m                                  Traceback (most recent call last)",
      "\u001b[1;32m<ipython-input-11-81cfb74d04fd>\u001b[0m in \u001b[0;36m<module>\u001b[1;34m()\u001b[0m\n\u001b[1;32m----> 1\u001b[1;33m \u001b[0mljm\u001b[0m\u001b[1;33m.\u001b[0m\u001b[0meWriteName\u001b[0m\u001b[1;33m(\u001b[0m\u001b[0mlabjack\u001b[0m\u001b[1;33m,\u001b[0m \u001b[1;34m'AIN0_EF_CONFIG_A'\u001b[0m\u001b[1;33m,\u001b[0m \u001b[1;36m2000\u001b[0m\u001b[1;33m)\u001b[0m\u001b[1;33m\u001b[0m\u001b[0m\n\u001b[0m\u001b[0;32m      2\u001b[0m \u001b[0mljm\u001b[0m\u001b[1;33m.\u001b[0m\u001b[0meWriteName\u001b[0m\u001b[1;33m(\u001b[0m\u001b[0mlabjack\u001b[0m\u001b[1;33m,\u001b[0m \u001b[1;34m'AIN0_EF_CONFIG_D'\u001b[0m\u001b[1;33m,\u001b[0m \u001b[1;36m100000\u001b[0m\u001b[1;33m)\u001b[0m\u001b[1;33m\u001b[0m\u001b[0m\n",
      "\u001b[1;32mC:\\ProgramData\\Anaconda2\\lib\\site-packages\\labjack\\ljm\\ljm.pyc\u001b[0m in \u001b[0;36meWriteName\u001b[1;34m(handle, name, value)\u001b[0m\n\u001b[0;32m    528\u001b[0m     \u001b[0merror\u001b[0m \u001b[1;33m=\u001b[0m \u001b[0m_staticLib\u001b[0m\u001b[1;33m.\u001b[0m\u001b[0mLJM_eWriteName\u001b[0m\u001b[1;33m(\u001b[0m\u001b[0mhandle\u001b[0m\u001b[1;33m,\u001b[0m \u001b[0mname\u001b[0m\u001b[1;33m.\u001b[0m\u001b[0mencode\u001b[0m\u001b[1;33m(\u001b[0m\u001b[1;34m\"ascii\"\u001b[0m\u001b[1;33m)\u001b[0m\u001b[1;33m,\u001b[0m \u001b[0mcVal\u001b[0m\u001b[1;33m)\u001b[0m\u001b[1;33m\u001b[0m\u001b[0m\n\u001b[0;32m    529\u001b[0m     \u001b[1;32mif\u001b[0m \u001b[0merror\u001b[0m \u001b[1;33m!=\u001b[0m \u001b[0merrorcodes\u001b[0m\u001b[1;33m.\u001b[0m\u001b[0mNOERROR\u001b[0m\u001b[1;33m:\u001b[0m\u001b[1;33m\u001b[0m\u001b[0m\n\u001b[1;32m--> 530\u001b[1;33m         \u001b[1;32mraise\u001b[0m \u001b[0mLJMError\u001b[0m\u001b[1;33m(\u001b[0m\u001b[0merror\u001b[0m\u001b[1;33m)\u001b[0m\u001b[1;33m\u001b[0m\u001b[0m\n\u001b[0m\u001b[0;32m    531\u001b[0m \u001b[1;33m\u001b[0m\u001b[0m\n\u001b[0;32m    532\u001b[0m \u001b[1;33m\u001b[0m\u001b[0m\n",
      "\u001b[1;31mLJMError\u001b[0m: LJM library error code 1224 LJME_DEVICE_NOT_OPEN"
     ]
    }
   ],
   "source": [
    "ljm.eWriteName(labjack, 'AIN0_EF_CONFIG_A', 2000)\n",
    "ljm.eWriteName(labjack, 'AIN0_EF_CONFIG_D', 100000)"
   ]
  },
  {
   "cell_type": "markdown",
   "metadata": {},
   "source": [
    "voltage = 0\n",
    "print voltage, 'V'    \n",
    "to = time.time()\n",
    "ljm.eWriteName(labjack, ps_switch, 0) #turn on the power supply\n",
    "ljm.eWriteName(labjack, v_ctrl, voltage/v_factor)\n",
    "time.sleep(3.)\n",
    "while (time.time() - to) < 5*duration:\n",
    "    time_t = time.time()\n",
    "    #v_t = ljm.eReadName(labjack, v_meas) * v_factor\n",
    "    v_t = float(multi2.query('F1RAZ0N4T3')) * v_factor\n",
    "    i_t = ljm.eReadName(labjack, i_meas) * i_factor\n",
    "    power_t = v_t*i_t\n",
    "    v_multi = float(multi1.query('F1RAZ0N4T3'))\n",
    "    temp1_t = lakeshore_util.ls_query('krdg? a')[0]\n",
    "    line = '%.3f \\t %.3f \\t %.3f \\t %.3f \\t %.3f \\t %.3f\\n'%(time_t, power_t, v_t, i_t, v_multi, temp1_t)\n",
    "    with open('log%d.txt'%version, 'a') as f_t:\n",
    "        f_t.write(line)\n",
    "ljm.eWriteName(labjack, ps_switch, 1) #Shutdown the power supply"
   ]
  },
  {
   "cell_type": "code",
   "execution_count": 20,
   "metadata": {},
   "outputs": [
    {
     "name": "stdout",
     "output_type": "stream",
     "text": [
      "1 W 3.4641016151377544 V\n"
     ]
    },
    {
     "ename": "LJMError",
     "evalue": "LJM library error code 1239 LJME_RECONNECT_FAILED",
     "output_type": "error",
     "traceback": [
      "\u001b[1;31m---------------------------------------------------------------------------\u001b[0m",
      "\u001b[1;31mLJMError\u001b[0m                                  Traceback (most recent call last)",
      "\u001b[1;32m<ipython-input-20-dfdc4a833578>\u001b[0m in \u001b[0;36m<module>\u001b[1;34m()\u001b[0m\n\u001b[0;32m     11\u001b[0m     \u001b[1;32mwhile\u001b[0m \u001b[1;33m(\u001b[0m\u001b[0mtime\u001b[0m\u001b[1;33m.\u001b[0m\u001b[0mtime\u001b[0m\u001b[1;33m(\u001b[0m\u001b[1;33m)\u001b[0m \u001b[1;33m-\u001b[0m \u001b[0mto\u001b[0m\u001b[1;33m)\u001b[0m \u001b[1;33m<\u001b[0m \u001b[0mduration\u001b[0m\u001b[1;33m:\u001b[0m\u001b[1;33m\u001b[0m\u001b[0m\n\u001b[0;32m     12\u001b[0m         \u001b[0mtime_t\u001b[0m \u001b[1;33m=\u001b[0m \u001b[0mtime\u001b[0m\u001b[1;33m.\u001b[0m\u001b[0mtime\u001b[0m\u001b[1;33m(\u001b[0m\u001b[1;33m)\u001b[0m\u001b[1;33m\u001b[0m\u001b[0m\n\u001b[1;32m---> 13\u001b[1;33m         \u001b[0mv_t\u001b[0m \u001b[1;33m=\u001b[0m \u001b[0mljm\u001b[0m\u001b[1;33m.\u001b[0m\u001b[0meReadName\u001b[0m\u001b[1;33m(\u001b[0m\u001b[0mlabjack\u001b[0m\u001b[1;33m,\u001b[0m \u001b[0mv_meas\u001b[0m\u001b[1;33m)\u001b[0m \u001b[1;31m#rms\u001b[0m\u001b[1;33m\u001b[0m\u001b[0m\n\u001b[0m\u001b[0;32m     14\u001b[0m         \u001b[0mv_o\u001b[0m \u001b[1;33m=\u001b[0m \u001b[0mljm\u001b[0m\u001b[1;33m.\u001b[0m\u001b[0meReadName\u001b[0m\u001b[1;33m(\u001b[0m\u001b[0mlabjack\u001b[0m\u001b[1;33m,\u001b[0m \u001b[0mv_off\u001b[0m\u001b[1;33m)\u001b[0m  \u001b[1;31m#DC offset\u001b[0m\u001b[1;33m\u001b[0m\u001b[0m\n\u001b[0;32m     15\u001b[0m         \u001b[1;31m#v_t = float(multi2.query('F1RAZ0N4T3')) * v_factor\u001b[0m\u001b[1;33m\u001b[0m\u001b[1;33m\u001b[0m\u001b[0m\n",
      "\u001b[1;32mC:\\ProgramData\\Anaconda2\\lib\\site-packages\\labjack\\ljm\\ljm.pyc\u001b[0m in \u001b[0;36meReadName\u001b[1;34m(handle, name)\u001b[0m\n\u001b[0;32m    552\u001b[0m     \u001b[0merror\u001b[0m \u001b[1;33m=\u001b[0m \u001b[0m_staticLib\u001b[0m\u001b[1;33m.\u001b[0m\u001b[0mLJM_eReadName\u001b[0m\u001b[1;33m(\u001b[0m\u001b[0mhandle\u001b[0m\u001b[1;33m,\u001b[0m \u001b[0mname\u001b[0m\u001b[1;33m.\u001b[0m\u001b[0mencode\u001b[0m\u001b[1;33m(\u001b[0m\u001b[1;34m\"ascii\"\u001b[0m\u001b[1;33m)\u001b[0m\u001b[1;33m,\u001b[0m \u001b[0mctypes\u001b[0m\u001b[1;33m.\u001b[0m\u001b[0mbyref\u001b[0m\u001b[1;33m(\u001b[0m\u001b[0mcVal\u001b[0m\u001b[1;33m)\u001b[0m\u001b[1;33m)\u001b[0m\u001b[1;33m\u001b[0m\u001b[0m\n\u001b[0;32m    553\u001b[0m     \u001b[1;32mif\u001b[0m \u001b[0merror\u001b[0m \u001b[1;33m!=\u001b[0m \u001b[0merrorcodes\u001b[0m\u001b[1;33m.\u001b[0m\u001b[0mNOERROR\u001b[0m\u001b[1;33m:\u001b[0m\u001b[1;33m\u001b[0m\u001b[0m\n\u001b[1;32m--> 554\u001b[1;33m         \u001b[1;32mraise\u001b[0m \u001b[0mLJMError\u001b[0m\u001b[1;33m(\u001b[0m\u001b[0merror\u001b[0m\u001b[1;33m)\u001b[0m\u001b[1;33m\u001b[0m\u001b[0m\n\u001b[0m\u001b[0;32m    555\u001b[0m \u001b[1;33m\u001b[0m\u001b[0m\n\u001b[0;32m    556\u001b[0m     \u001b[1;32mreturn\u001b[0m \u001b[0mcVal\u001b[0m\u001b[1;33m.\u001b[0m\u001b[0mvalue\u001b[0m\u001b[1;33m\u001b[0m\u001b[0m\n",
      "\u001b[1;31mLJMError\u001b[0m: LJM library error code 1239 LJME_RECONNECT_FAILED"
     ]
    }
   ],
   "source": [
    "for i in range(5):\n",
    "    power = power_start + i*2\n",
    "    voltage = np.sqrt(power*resistance)\n",
    "    print power, 'W', voltage, 'V'    \n",
    "    to = time.time()\n",
    "    #ljm.eWriteName(labjack, ps_switch, 0) #turn on the power supply\n",
    "    #ljm.eWriteName(labjack, v_ctrl, voltage/v_factor)\n",
    "    ljm.eWriteName(labjack, 'AIN0_EF_CONFIG_A', 2000)\n",
    "    ljm.eWriteName(labjack, 'AIN0_EF_CONFIG_D', 100000)\n",
    "    #time.sleep(3.)\n",
    "    while (time.time() - to) < duration:\n",
    "        time_t = time.time()\n",
    "        v_t = ljm.eReadName(labjack, v_meas) #rms\n",
    "        v_o = ljm.eReadName(labjack, v_off)  #DC offset\n",
    "        #v_t = float(multi2.query('F1RAZ0N4T3')) * v_factor\n",
    "        #v_t = v_factor * (ljm.eReadName(labjack, 'AIN1') - ljm.eReadName(labjack, 'AIN0'))\n",
    "        #i_t = ljm.eReadName(labjack, i_meas) * i_factor\n",
    "        #power_t = v_t*i_t\n",
    "        #v_multi1 = float(multi1.query('F1RAZ0N4T3'))\n",
    "        \n",
    "        #v_multi2 = float(multi2.query('F1RAZ0N4T3')) * v_factor\n",
    "        #temp1_t = lakeshore_util.ls_query('krdg? a')[0]\n",
    "        line = '%.3f \\t %.8f \\t %.8f\\n'%(time_t, v_t, v_o)\n",
    "        with open('log%d.txt'%version, 'a') as f_t:\n",
    "            f_t.write(line)\n",
    "#ljm.eWriteName(labjack, ps_switch, 1) #Shutdown the power supply\n",
    "#ljm.close(labjack)\n"
   ]
  },
  {
   "cell_type": "code",
   "execution_count": null,
   "metadata": {
    "scrolled": true
   },
   "outputs": [
    {
     "name": "stdout",
     "output_type": "stream",
     "text": [
      "1 W 3.4641016151377544 V\n"
     ]
    }
   ],
   "source": [
    "for i in range(5):\n",
    "    power = power_start + i*2\n",
    "    voltage = np.sqrt(power*resistance)\n",
    "    print power, 'W', voltage, 'V'    \n",
    "    to = time.time()\n",
    "    ljm.eWriteName(labjack, ps_switch, 0) #turn on the power supply\n",
    "    ljm.eWriteName(labjack, v_ctrl, voltage/v_factor)\n",
    "    ljm.eWriteName(labjack, 'AIN0_EF_CONFIG_A', 1250)\n",
    "    ljm.eWriteName(labjack, 'AIN0_EF_CONFIG_B', 100)\n",
    "    ljm.eWriteName(labjack, 'AIN0_EF_CONFIG_D', 12500)\n",
    "    time.sleep(3.)\n",
    "    while (time.time() - to) < duration:\n",
    "        time_t = time.time()\n",
    "        v_t = ljm.eReadName(labjack, v_meas) #rms\n",
    "        v_o = ljm.eReadName(labjack, v_off)  #DC offset\n",
    "        #v_t = float(multi2.query('F1RAZ0N4T3')) * v_factor\n",
    "        #v_t = v_factor * (ljm.eReadName(labjack, 'AIN1') - ljm.eReadName(labjack, 'AIN0'))\n",
    "        #i_t = ljm.eReadName(labjack, i_meas) * i_factor\n",
    "        #power_t = v_t*i_t\n",
    "        #v_multi1 = float(multi1.query('F1RAZ0N4T3'))\n",
    "        \n",
    "        #v_multi2 = float(multi2.query('F1RAZ0N4T3')) * v_factor\n",
    "        #temp1_t = lakeshore_util.ls_query('krdg? a')[0]\n",
    "        line = '%.3f \\t %.3f \\t %.8f \\t %.8f\\n'%(time_t, power_t, v_t, v_o)\n",
    "        with open('log%d.txt'%version, 'a') as f_t:\n",
    "            f_t.write(line)\n",
    "\n",
    "voltage = 0\n",
    "print voltage, 'V'    \n",
    "to = time.time()\n",
    "#ljm.eWriteName(labjack, ps_switch, 0) #turn on the power supply\n",
    "#ljm.eWriteName(labjack, v_ctrl, voltage/v_factor)\n",
    "#time.sleep(3.)\n",
    "while (time.time() - to) < 5*duration:\n",
    "    time_t = time.time()\n",
    "    v_t = ljm.eReadName(labjack, v_meas) * v_factor\n",
    "    #v_t = float(multi2.query('F1RAZ0N4T3')) * v_factor\n",
    "    i_t = ljm.eReadName(labjack, i_meas) * i_factor\n",
    "    power_t = v_t*i_t\n",
    "    v_multi1 = float(multi1.query('F1RAZ0N4T3'))\n",
    "    v_multi2 = float(multi2.query('F1RAZ0N4T3')) * v_factor\n",
    "    temp1_t = lakeshore_util.ls_query('krdg? a')[0]\n",
    "    line = '%.3f \\t %.3f \\t %.3f \\t %.3f \\t %.3f \\t %.3f \\t %.3f\\n'%(time_t, power_t, v_t, i_t, v_multi1, v_multi2, temp1_t)\n",
    "    with open('log%d.txt'%version, 'a') as f_t:\n",
    "        f_t.write(line)\n",
    "ljm.eWriteName(labjack, ps_switch, 1) #Shutdown the power supply"
   ]
  },
  {
   "cell_type": "code",
   "execution_count": 11,
   "metadata": {},
   "outputs": [],
   "source": [
    "ljm.eWriteName(labjack, ps_switch, 1) #Shutdown the power supply"
   ]
  },
  {
   "cell_type": "code",
   "execution_count": null,
   "metadata": {},
   "outputs": [],
   "source": []
  },
  {
   "cell_type": "markdown",
   "metadata": {},
   "source": [
    "# Original without Averaging"
   ]
  },
  {
   "cell_type": "code",
   "execution_count": 10,
   "metadata": {},
   "outputs": [
    {
     "name": "stdout",
     "output_type": "stream",
     "text": [
      "2 channels, total sampling rate 200000, averaging time 0 s, 5000 sample for average.\n"
     ]
    }
   ],
   "source": [
    "#Labjack\n",
    "ps_switch = 'FIO0'\n",
    "v_ctrl = 'DAC0'\n",
    "v_meas = 'AIN0_EF_READ_A'\n",
    "i_meas = 'AIN1_EF_READ_A'\n",
    "\n",
    "labjack = ljm.openS(\"T7\", \"usb\", \"CryoTester_ljT7\")\n",
    "ljm.eWriteName(labjack, ps_switch, 1) #Shutdown the power supply by default\n",
    "ljm.eWriteName(labjack, 'AIN_ALL_EF_INDEX', 0) #Turn off all the analog inputs\n",
    "#Labjack input parameter setup\n",
    "sample_rate = 200*1000\n",
    "n_ch = 2\n",
    "avg_time = 0.05 #s\n",
    "n_sample = int(sample_rate/n_ch*avg_time)\n",
    "print '%d channels, total sampling rate %d, averaging time %d s, %d sample for average.'%(n_ch, sample_rate, avg_time, n_sample)\n",
    "ljm.eWriteName(labjack, 'AIN0_EF_INDEX', 3) #AIN0 average\n",
    "ljm.eWriteName(labjack, 'AIN0_EF_CONFIG_A', n_sample)\n",
    "ljm.eWriteName(labjack, 'AIN0_EF_CONFIG_D', sample_rate/n_ch)\n",
    "ljm.eWriteName(labjack, 'AIN1_EF_INDEX', 3) #AIN1 average\n",
    "ljm.eWriteName(labjack, 'AIN1_EF_CONFIG_A', n_sample)\n",
    "ljm.eWriteName(labjack, 'AIN1_EF_CONFIG_D', sample_rate/n_ch)\n",
    "\n",
    "#Multimeters\n",
    "rm = visa.ResourceManager()\n",
    "multi1 = rm.open_resource('GPIB0::26::INSTR')\n",
    "multi2 = rm.open_resource('GPIB0::3::INSTR')"
   ]
  },
  {
   "cell_type": "code",
   "execution_count": 11,
   "metadata": {},
   "outputs": [],
   "source": [
    "version = 1\n",
    "\n",
    "power_start = 1 #W\n",
    "resistance = 12 #ohms\n",
    "duration = 200. #seconds\n",
    "v_factor = 50./5. #factor turning 0-5V signal to the output voltage\n",
    "i_factor = 24./5. #factor turning 0-5V signal to the output current\n",
    "with open('log%d.txt'%version, 'w') as f_t:\n",
    "    f_t.write('ctime\\t power\\t v_meas\\t v_meas_no_avg\\t i_meas\\t v_multi1\\t v_multi2\\t temp1\\n')\n",
    "    f_t.write('seconds\\t Watt\\t Volts\\t Volts\\t Amps\\t Volts\\t Volts\\t Kelvin\\n')"
   ]
  },
  {
   "cell_type": "code",
   "execution_count": 12,
   "metadata": {},
   "outputs": [
    {
     "name": "stdout",
     "output_type": "stream",
     "text": [
      "1 W 3.4641016151377544 V\n",
      "2 W 4.898979485566356 V\n"
     ]
    },
    {
     "ename": "KeyboardInterrupt",
     "evalue": "",
     "output_type": "error",
     "traceback": [
      "\u001b[1;31m---------------------------------------------------------------------------\u001b[0m",
      "\u001b[1;31mKeyboardInterrupt\u001b[0m                         Traceback (most recent call last)",
      "\u001b[1;32m<ipython-input-12-7a664f44635d>\u001b[0m in \u001b[0;36m<module>\u001b[1;34m()\u001b[0m\n\u001b[0;32m      9\u001b[0m     \u001b[1;32mwhile\u001b[0m \u001b[1;33m(\u001b[0m\u001b[0mtime\u001b[0m\u001b[1;33m.\u001b[0m\u001b[0mtime\u001b[0m\u001b[1;33m(\u001b[0m\u001b[1;33m)\u001b[0m \u001b[1;33m-\u001b[0m \u001b[0mto\u001b[0m\u001b[1;33m)\u001b[0m \u001b[1;33m<\u001b[0m \u001b[0mduration\u001b[0m\u001b[1;33m:\u001b[0m\u001b[1;33m\u001b[0m\u001b[0m\n\u001b[0;32m     10\u001b[0m         \u001b[0mtime_t\u001b[0m \u001b[1;33m=\u001b[0m \u001b[0mtime\u001b[0m\u001b[1;33m.\u001b[0m\u001b[0mtime\u001b[0m\u001b[1;33m(\u001b[0m\u001b[1;33m)\u001b[0m\u001b[1;33m\u001b[0m\u001b[0m\n\u001b[1;32m---> 11\u001b[1;33m         \u001b[0mv_t\u001b[0m \u001b[1;33m=\u001b[0m \u001b[0mljm\u001b[0m\u001b[1;33m.\u001b[0m\u001b[0meReadName\u001b[0m\u001b[1;33m(\u001b[0m\u001b[0mlabjack\u001b[0m\u001b[1;33m,\u001b[0m \u001b[0mv_meas\u001b[0m\u001b[1;33m)\u001b[0m \u001b[1;33m*\u001b[0m \u001b[0mv_factor\u001b[0m\u001b[1;33m\u001b[0m\u001b[0m\n\u001b[0m\u001b[0;32m     12\u001b[0m         \u001b[0mv_t_no_avg\u001b[0m \u001b[1;33m=\u001b[0m \u001b[0mljm\u001b[0m\u001b[1;33m.\u001b[0m\u001b[0meReadName\u001b[0m\u001b[1;33m(\u001b[0m\u001b[0mlabjack\u001b[0m\u001b[1;33m,\u001b[0m \u001b[1;34m'AIN0'\u001b[0m\u001b[1;33m)\u001b[0m \u001b[1;33m*\u001b[0m \u001b[0mv_factor\u001b[0m\u001b[1;33m\u001b[0m\u001b[0m\n\u001b[0;32m     13\u001b[0m         \u001b[0mi_t\u001b[0m \u001b[1;33m=\u001b[0m \u001b[0mljm\u001b[0m\u001b[1;33m.\u001b[0m\u001b[0meReadName\u001b[0m\u001b[1;33m(\u001b[0m\u001b[0mlabjack\u001b[0m\u001b[1;33m,\u001b[0m \u001b[0mi_meas\u001b[0m\u001b[1;33m)\u001b[0m \u001b[1;33m*\u001b[0m \u001b[0mi_factor\u001b[0m\u001b[1;33m\u001b[0m\u001b[0m\n",
      "\u001b[1;32mC:\\ProgramData\\Anaconda2\\lib\\site-packages\\labjack\\ljm\\ljm.pyc\u001b[0m in \u001b[0;36meReadName\u001b[1;34m(handle, name)\u001b[0m\n\u001b[0;32m    550\u001b[0m     \u001b[0mcVal\u001b[0m \u001b[1;33m=\u001b[0m \u001b[0mctypes\u001b[0m\u001b[1;33m.\u001b[0m\u001b[0mc_double\u001b[0m\u001b[1;33m(\u001b[0m\u001b[1;36m0\u001b[0m\u001b[1;33m)\u001b[0m\u001b[1;33m\u001b[0m\u001b[0m\n\u001b[0;32m    551\u001b[0m \u001b[1;33m\u001b[0m\u001b[0m\n\u001b[1;32m--> 552\u001b[1;33m     \u001b[0merror\u001b[0m \u001b[1;33m=\u001b[0m \u001b[0m_staticLib\u001b[0m\u001b[1;33m.\u001b[0m\u001b[0mLJM_eReadName\u001b[0m\u001b[1;33m(\u001b[0m\u001b[0mhandle\u001b[0m\u001b[1;33m,\u001b[0m \u001b[0mname\u001b[0m\u001b[1;33m.\u001b[0m\u001b[0mencode\u001b[0m\u001b[1;33m(\u001b[0m\u001b[1;34m\"ascii\"\u001b[0m\u001b[1;33m)\u001b[0m\u001b[1;33m,\u001b[0m \u001b[0mctypes\u001b[0m\u001b[1;33m.\u001b[0m\u001b[0mbyref\u001b[0m\u001b[1;33m(\u001b[0m\u001b[0mcVal\u001b[0m\u001b[1;33m)\u001b[0m\u001b[1;33m)\u001b[0m\u001b[1;33m\u001b[0m\u001b[0m\n\u001b[0m\u001b[0;32m    553\u001b[0m     \u001b[1;32mif\u001b[0m \u001b[0merror\u001b[0m \u001b[1;33m!=\u001b[0m \u001b[0merrorcodes\u001b[0m\u001b[1;33m.\u001b[0m\u001b[0mNOERROR\u001b[0m\u001b[1;33m:\u001b[0m\u001b[1;33m\u001b[0m\u001b[0m\n\u001b[0;32m    554\u001b[0m         \u001b[1;32mraise\u001b[0m \u001b[0mLJMError\u001b[0m\u001b[1;33m(\u001b[0m\u001b[0merror\u001b[0m\u001b[1;33m)\u001b[0m\u001b[1;33m\u001b[0m\u001b[0m\n",
      "\u001b[1;31mKeyboardInterrupt\u001b[0m: "
     ]
    }
   ],
   "source": [
    "for i in range(5):\n",
    "    power = power_start + i\n",
    "    voltage = np.sqrt(power * resistance)\n",
    "    print power, 'W', voltage, 'V'    \n",
    "    to = time.time()\n",
    "    ljm.eWriteName(labjack, ps_switch, 0) #turn on the power supply\n",
    "    ljm.eWriteName(labjack, v_ctrl, voltage/v_factor)\n",
    "    time.sleep(3.)\n",
    "    while (time.time() - to) < duration:\n",
    "        time_t = time.time()\n",
    "        v_t = ljm.eReadName(labjack, v_meas) * v_factor\n",
    "        v_t_no_avg = ljm.eReadName(labjack, 'AIN0') * v_factor\n",
    "        i_t = ljm.eReadName(labjack, i_meas) * i_factor\n",
    "        power_t = v_t*i_t\n",
    "        v_multi1 = float(multi1.query('F1RAZ0N4T3'))\n",
    "        v_multi2 = float(multi2.query('F1RAZ0N4T3')) * v_factor\n",
    "        temp1_t = lakeshore_util.ls_query('krdg? a')[0]\n",
    "        line = '%.3f \\t %.3f \\t %.3f \\t %.3f \\t %.3f \\t %.3f \\t %.3f \\t %.3f\\n'%(time_t, power_t, v_t, v_t_no_avg, i_t, v_multi1, v_multi2, temp1_t)\n",
    "        with open('log%d.txt'%version, 'a') as f_t:\n",
    "            f_t.write(line)\n",
    "power = 0 #W\n",
    "voltage = np.sqrt(power * resistance)\n",
    "print power, 'W', voltage, 'V'    \n",
    "to = time.time()\n",
    "ljm.eWriteName(labjack, ps_switch, 0) #turn on the power supply\n",
    "ljm.eWriteName(labjack, v_ctrl, voltage/v_factor)\n",
    "time.sleep(3.)\n",
    "while (time.time() - to) < 10*duration:\n",
    "    time_t = time.time()\n",
    "    v_t = ljm.eReadName(labjack, v_meas) * v_factor\n",
    "    v_t_no_avg = ljm.eReadName(labjack, 'AIN0') * v_factor\n",
    "    i_t = ljm.eReadName(labjack, i_meas) * i_factor\n",
    "    power_t = v_t*i_t\n",
    "    v_multi1 = float(multi1.query('F1RAZ0N4T3'))\n",
    "    v_multi2 = float(multi2.query('F1RAZ0N4T3')) * v_factor\n",
    "    temp1_t = lakeshore_util.ls_query('krdg? a')[0]\n",
    "    line = '%.3f \\t %.3f \\t %.3f \\t %.3f \\t %.3f \\t %.3f \\t %.3f \\t %.3f\\n'%(time_t, power_t, v_t, v_t_no_avg, i_t, v_multi1, v_multi2, temp1_t)\n",
    "    with open('log%d.txt'%version, 'a') as f_t:\n",
    "        f_t.write(line)\n",
    "ljm.eWriteName(labjack, ps_switch, 1) #Shutdown the power supply\n",
    "ljm.close(labjack)\n",
    "multi1.close()\n",
    "multi2.close()"
   ]
  },
  {
   "cell_type": "code",
   "execution_count": 5,
   "metadata": {},
   "outputs": [],
   "source": [
    "ljm.eWriteName(labjack, ps_switch, 1)\n",
    "ljm.close(labjack)\n",
    "multi1.close()\n",
    "multi2.close()"
   ]
  },
  {
   "cell_type": "code",
   "execution_count": null,
   "metadata": {},
   "outputs": [],
   "source": []
  }
 ],
 "metadata": {
  "kernelspec": {
   "display_name": "Python 2",
   "language": "python",
   "name": "python2"
  },
  "language_info": {
   "codemirror_mode": {
    "name": "ipython",
    "version": 2
   },
   "file_extension": ".py",
   "mimetype": "text/x-python",
   "name": "python",
   "nbconvert_exporter": "python",
   "pygments_lexer": "ipython2",
   "version": "2.7.14"
  }
 },
 "nbformat": 4,
 "nbformat_minor": 2
}
