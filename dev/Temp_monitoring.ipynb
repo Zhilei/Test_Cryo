{
 "cells": [
  {
   "cell_type": "code",
   "execution_count": 9,
   "metadata": {},
   "outputs": [],
   "source": [
    "import inst_utils\n",
    "reload(inst_utils)\n",
    "import time\n",
    "import os"
   ]
  },
  {
   "cell_type": "code",
   "execution_count": 10,
   "metadata": {},
   "outputs": [],
   "source": [
    "version = '180514_1_Warm_up'\n",
    "folder_path = 'data/%s'%(version)\n",
    "file_path = folder_path + '/temp_log.txt'\n",
    "if not os.path.exists(folder_path):\n",
    "    os.makedirs(folder_path)\n",
    "with open(file_path, 'w') as f_t:\n",
    "    f_t.write('ctime\\t 40K_cold_plate\\t 4K_cold_plate\\n')\n",
    "    f_t.write('seconds\\t Kelvin\\t Kelvin\\n')"
   ]
  },
  {
   "cell_type": "code",
   "execution_count": null,
   "metadata": {},
   "outputs": [],
   "source": [
    "ls = inst_utils.Lakeshore_224()\n",
    "while True:\n",
    "    time.sleep(0.074)\n",
    "    time_t = time.time()\n",
    "    temps_t = ls.read_chs(ch_str='0')\n",
    "    line_t = '%.3f\\t %.3f\\t %.3f\\n'%(time_t, temps_t[0], temps_t[1])\n",
    "    with open(file_path, 'a') as f_t:\n",
    "        f_t.write(line_t)"
   ]
  },
  {
   "cell_type": "code",
   "execution_count": 12,
   "metadata": {},
   "outputs": [],
   "source": [
    "ls.close()"
   ]
  },
  {
   "cell_type": "code",
   "execution_count": null,
   "metadata": {},
   "outputs": [],
   "source": []
  },
  {
   "cell_type": "code",
   "execution_count": null,
   "metadata": {},
   "outputs": [],
   "source": []
  }
 ],
 "metadata": {
  "kernelspec": {
   "display_name": "Python 2",
   "language": "python",
   "name": "python2"
  },
  "language_info": {
   "codemirror_mode": {
    "name": "ipython",
    "version": 2
   },
   "file_extension": ".py",
   "mimetype": "text/x-python",
   "name": "python",
   "nbconvert_exporter": "python",
   "pygments_lexer": "ipython2",
   "version": "2.7.14"
  }
 },
 "nbformat": 4,
 "nbformat_minor": 2
}
